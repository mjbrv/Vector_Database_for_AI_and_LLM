{
 "cells": [
  {
   "cell_type": "markdown",
   "id": "475c33bb",
   "metadata": {},
   "source": [
    "## SQLite Database Operations\n",
    "\n",
    "### 1. Database Creation\n",
    "- **Task:** Create a SQLite database.\n",
    "- **Details:** \n",
    "  - Database Name: `test.db`\n",
    "\n",
    "### 2. Schema Development\n",
    "- **Task:** Design and create a table schema.\n",
    "\n",
    "### 3. Data Insertion\n",
    "- **Task:** Insert data into the table.\n",
    "- **Details:** \n",
    "  - Initially, insert one row of data.\n",
    "  - Scalability: Methodology applicable for multiple rows.\n",
    "\n",
    "### 4. Query Execution\n",
    "- **Task:** Execute SQL queries.\n",
    "- **Details:** \n",
    "  - Purpose: To retrieve and inspect data from the database.\n",
    "\n",
    "### 5. Closing Connection\n",
    "- **Task:** Safely commit and close the database connection."
   ]
  },
  {
   "cell_type": "code",
   "execution_count": 1,
   "id": "2eb8c913",
   "metadata": {},
   "outputs": [],
   "source": [
    "# !pip install sqlite3\n",
    "import sqlite3"
   ]
  },
  {
   "cell_type": "code",
   "execution_count": 2,
   "id": "87429e78",
   "metadata": {},
   "outputs": [],
   "source": [
    "# create a connection to the SQLite DB\n",
    "conn = sqlite3.connect('test.db')"
   ]
  },
  {
   "cell_type": "code",
   "execution_count": 4,
   "id": "376bdaa1",
   "metadata": {},
   "outputs": [],
   "source": [
    "# Create a cursor object to execute SQL Commands\n",
    "cursor = conn.cursor()"
   ]
  },
  {
   "cell_type": "code",
   "execution_count": 5,
   "id": "e2547b46",
   "metadata": {},
   "outputs": [
    {
     "data": {
      "text/plain": [
       "<sqlite3.Cursor at 0x7faea038f840>"
      ]
     },
     "execution_count": 5,
     "metadata": {},
     "output_type": "execute_result"
    }
   ],
   "source": [
    "# Create a table\n",
    "cursor.execute(\n",
    "\"\"\"\n",
    "CREATE TABLE IF NOT EXISTS employees (\n",
    "    id INTEGER PRIMARY KEY,\n",
    "    name TEXT NOT NULL,\n",
    "    age INTEGER,\n",
    "    department TEXT\n",
    ")\n",
    "\"\"\"\n",
    ")"
   ]
  },
  {
   "cell_type": "code",
   "execution_count": 6,
   "id": "f2bff0fe",
   "metadata": {},
   "outputs": [
    {
     "data": {
      "text/plain": [
       "<sqlite3.Cursor at 0x7faea038f840>"
      ]
     },
     "execution_count": 6,
     "metadata": {},
     "output_type": "execute_result"
    }
   ],
   "source": [
    "# Insert data into table\n",
    "cursor.execute(\n",
    "\"INSERT INTO employees (name, age, department) VALUES (?, ?, ?)\", \n",
    "    ('John Doe', 30, 'Sales')\n",
    "\n",
    ")"
   ]
  },
  {
   "cell_type": "code",
   "execution_count": 12,
   "id": "45035aeb",
   "metadata": {},
   "outputs": [
    {
     "data": {
      "text/plain": [
       "<sqlite3.Cursor at 0x7faea038f840>"
      ]
     },
     "execution_count": 12,
     "metadata": {},
     "output_type": "execute_result"
    }
   ],
   "source": [
    "# Retreive data\n",
    "\n",
    "cursor.execute(\"SELECT * FROM employees\")"
   ]
  },
  {
   "cell_type": "code",
   "execution_count": 13,
   "id": "f35d9933",
   "metadata": {},
   "outputs": [],
   "source": [
    "rows = cursor.fetchall() # it will bring all the rows into the memory"
   ]
  },
  {
   "cell_type": "code",
   "execution_count": 14,
   "id": "1f80f4a7",
   "metadata": {},
   "outputs": [
    {
     "data": {
      "text/plain": [
       "[(1, 'John Doe', 30, 'Sales')]"
      ]
     },
     "execution_count": 14,
     "metadata": {},
     "output_type": "execute_result"
    }
   ],
   "source": [
    "rows"
   ]
  },
  {
   "cell_type": "code",
   "execution_count": 15,
   "id": "6b00fbbd",
   "metadata": {},
   "outputs": [],
   "source": [
    "conn.commit() # commit the changes "
   ]
  },
  {
   "cell_type": "code",
   "execution_count": 16,
   "id": "da8199f0",
   "metadata": {},
   "outputs": [],
   "source": [
    "conn.close() # close the connection"
   ]
  },
  {
   "cell_type": "code",
   "execution_count": null,
   "id": "299f9ab5",
   "metadata": {},
   "outputs": [],
   "source": []
  }
 ],
 "metadata": {
  "kernelspec": {
   "display_name": "Python 3 (ipykernel)",
   "language": "python",
   "name": "python3"
  },
  "language_info": {
   "codemirror_mode": {
    "name": "ipython",
    "version": 3
   },
   "file_extension": ".py",
   "mimetype": "text/x-python",
   "name": "python",
   "nbconvert_exporter": "python",
   "pygments_lexer": "ipython3",
   "version": "3.11.5"
  }
 },
 "nbformat": 4,
 "nbformat_minor": 5
}
