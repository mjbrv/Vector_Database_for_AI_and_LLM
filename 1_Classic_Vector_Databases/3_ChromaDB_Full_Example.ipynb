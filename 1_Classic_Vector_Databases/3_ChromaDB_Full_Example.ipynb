{
 "cells": [
  {
   "cell_type": "markdown",
   "id": "8c4643bb",
   "metadata": {},
   "source": [
    "# Semantic Search Using Chroma DB"
   ]
  },
  {
   "cell_type": "code",
   "execution_count": 1,
   "id": "ee1fbcc3",
   "metadata": {},
   "outputs": [],
   "source": [
    "# !pip install chromadb --user\n",
    "import pandas as pd\n",
    "import chromadb"
   ]
  },
  {
   "cell_type": "code",
   "execution_count": 3,
   "id": "06f7b7f5",
   "metadata": {},
   "outputs": [],
   "source": [
    "# data source: https://www.kaggle.com/datasets/nulldata/medium-post-titles\n",
    "df = pd.read_csv(\"medium_post_titles.csv\")\n",
    "\n",
    "df = df.dropna()\n",
    "df = df[~df[\"subtitle_truncated_flag\"]]\n",
    "\n",
    "topics_of_interest = ['artificial-intelligence', 'data-science', 'machine-learning']\n",
    "# topics_of_interest = ['data-science']\n",
    "\n",
    "df = df[df['category'].isin(topics_of_interest)]\n",
    "\n",
    "df['text'] = df['title']  + df['subtitle']\n",
    "\n",
    "df['meta'] = df.apply( lambda x: {\n",
    "    'text': x['text'],\n",
    "    'category': x['category']  \n",
    "}, axis=1)"
   ]
  },
  {
   "cell_type": "code",
   "execution_count": 4,
   "id": "00cc89d3",
   "metadata": {
    "scrolled": true
   },
   "outputs": [
    {
     "data": {
      "text/html": [
       "<div>\n",
       "<style scoped>\n",
       "    .dataframe tbody tr th:only-of-type {\n",
       "        vertical-align: middle;\n",
       "    }\n",
       "\n",
       "    .dataframe tbody tr th {\n",
       "        vertical-align: top;\n",
       "    }\n",
       "\n",
       "    .dataframe thead th {\n",
       "        text-align: right;\n",
       "    }\n",
       "</style>\n",
       "<table border=\"1\" class=\"dataframe\">\n",
       "  <thead>\n",
       "    <tr style=\"text-align: right;\">\n",
       "      <th></th>\n",
       "      <th>category</th>\n",
       "      <th>title</th>\n",
       "      <th>subtitle</th>\n",
       "      <th>subtitle_truncated_flag</th>\n",
       "      <th>text</th>\n",
       "      <th>meta</th>\n",
       "    </tr>\n",
       "  </thead>\n",
       "  <tbody>\n",
       "    <tr>\n",
       "      <th>4</th>\n",
       "      <td>artificial-intelligence</td>\n",
       "      <td>\"Can I Train my Model on Your Computer?\"</td>\n",
       "      <td>How we waste computational resources and how t...</td>\n",
       "      <td>False</td>\n",
       "      <td>\"Can I Train my Model on Your Computer?\"How we...</td>\n",
       "      <td>{'text': '\"Can I Train my Model on Your Comput...</td>\n",
       "    </tr>\n",
       "    <tr>\n",
       "      <th>289</th>\n",
       "      <td>data-science</td>\n",
       "      <td>(Robot) data scientists as a service</td>\n",
       "      <td>Automating data science with symbolic regressi...</td>\n",
       "      <td>False</td>\n",
       "      <td>(Robot) data scientists as a serviceAutomating...</td>\n",
       "      <td>{'text': '(Robot) data scientists as a service...</td>\n",
       "    </tr>\n",
       "  </tbody>\n",
       "</table>\n",
       "</div>"
      ],
      "text/plain": [
       "                    category                                     title  \\\n",
       "4    artificial-intelligence  \"Can I Train my Model on Your Computer?\"   \n",
       "289             data-science      (Robot) data scientists as a service   \n",
       "\n",
       "                                              subtitle  \\\n",
       "4    How we waste computational resources and how t...   \n",
       "289  Automating data science with symbolic regressi...   \n",
       "\n",
       "     subtitle_truncated_flag  \\\n",
       "4                      False   \n",
       "289                    False   \n",
       "\n",
       "                                                  text  \\\n",
       "4    \"Can I Train my Model on Your Computer?\"How we...   \n",
       "289  (Robot) data scientists as a serviceAutomating...   \n",
       "\n",
       "                                                  meta  \n",
       "4    {'text': '\"Can I Train my Model on Your Comput...  \n",
       "289  {'text': '(Robot) data scientists as a service...  "
      ]
     },
     "execution_count": 4,
     "metadata": {},
     "output_type": "execute_result"
    }
   ],
   "source": [
    "df.head(2)"
   ]
  },
  {
   "cell_type": "markdown",
   "id": "94a6cd28",
   "metadata": {},
   "source": [
    "## Chroma DB Setup "
   ]
  },
  {
   "cell_type": "code",
   "execution_count": 7,
   "id": "3b578a6b",
   "metadata": {},
   "outputs": [],
   "source": [
    "from chromadb.config import Settings"
   ]
  },
  {
   "cell_type": "markdown",
   "id": "83e7ba90",
   "metadata": {},
   "source": [
    "***Note1:*** For inserting data, we need to do the vector embeddings. If we are not defining or using our own vector embedding, then Chrome will use the default one.\n",
    "\n",
    "***Note2:*** So before inserting data into the vector database, we have to have a collection. The collection is basically a collection of vectors where we define vectors, IDs and other informations, and it's kind of like an (abstract) index."
   ]
  },
  {
   "cell_type": "code",
   "execution_count": 9,
   "id": "7242deac",
   "metadata": {
    "scrolled": true
   },
   "outputs": [],
   "source": [
    "# Chroma DB Setup\n",
    "# chroma_client = chromadb.Client() # default: in memory\n",
    "client = chromadb.PersistentClient(path=\"medium-chroma-db\") # persistent memory\n",
    "\n",
    "# collection creation\n",
    "article_collection = chroma_client.create_collection(name=\"medium-article\")"
   ]
  },
  {
   "cell_type": "markdown",
   "id": "f20f19d1",
   "metadata": {},
   "source": [
    "## Data Insertion"
   ]
  },
  {
   "cell_type": "code",
   "execution_count": 10,
   "id": "429c37d4",
   "metadata": {},
   "outputs": [
    {
     "name": "stderr",
     "output_type": "stream",
     "text": [
      "C:\\Users\\molak\\.cache\\chroma\\onnx_models\\all-MiniLM-L6-v2\\onnx.tar.gz: 100%|██████████| 79.3M/79.3M [00:14<00:00, 5.61MiB/s]\n"
     ]
    }
   ],
   "source": [
    "# inserting data\n",
    "\n",
    "article_collection.upsert(\n",
    "    ids=[f\"{x}\" for x in df.index.tolist()],\n",
    "    documents=df['text'].tolist(),\n",
    "    metadatas=df['meta'].tolist()    \n",
    ")"
   ]
  },
  {
   "cell_type": "code",
   "execution_count": null,
   "id": "af7553f9",
   "metadata": {},
   "outputs": [],
   "source": [
    "# article_collection.add(\n",
    "#     ids=[f\"{x}\" for x in df.index.tolist()],\n",
    "#     documents=df['text'].tolist(),\n",
    "#     metadatas=df['meta'].tolist()    \n",
    "# )"
   ]
  },
  {
   "cell_type": "markdown",
   "id": "1e2ae396",
   "metadata": {},
   "source": [
    "### Note: You can use *.add()* instead of *.upsert()* as well, but What is the difference between *.add()* and *.upsert()*?"
   ]
  },
  {
   "cell_type": "markdown",
   "id": "efa65622",
   "metadata": {},
   "source": [
    "- *.add()* basically adds vectors into collections where *.upsert()* means updating and inserting.\n",
    "\n",
    "- If the *.upsert()* method finds a vector ID that is already present in the database, it is not going to add that but it's going to update it instead. If the ID is not present in the database, then it is going to add it or insert it. That's why it's called the Upsert. \n",
    "- *.upsert()* means we are updating all these vectors because these vectors are already there in the database, so it's going to update even if it's there.\n",
    "\n",
    "- If you use *.add()* and it finds a vector ID that is already present in the database thenit will provide an error saying that ID is already there, so you cannot add any vector that's already present with the same ID.\n",
    "\n",
    "***Summary:*** In the case you have any vectors that you need to update, you can use *.upsert()*. If you are trying to insert them into the database for the first time, you can use *.add()*. In any case, *.upsert()* will work."
   ]
  },
  {
   "cell_type": "markdown",
   "id": "b6925f75",
   "metadata": {},
   "source": [
    "## Vector Query"
   ]
  },
  {
   "cell_type": "code",
   "execution_count": 15,
   "id": "357cff43",
   "metadata": {},
   "outputs": [],
   "source": [
    "qry_str1 = \"best data science library?\"\n",
    "qry_str2 = \"best data ai library?\""
   ]
  },
  {
   "cell_type": "code",
   "execution_count": 16,
   "id": "52b84c22",
   "metadata": {},
   "outputs": [
    {
     "data": {
      "text/plain": [
       "{'ids': [['65427', '2586']],\n",
       " 'distances': [[0.6087137460708618, 0.6778910160064697]],\n",
       " 'metadatas': [[{'category': 'data-science',\n",
       "    'text': 'My Favorite Data Science/Machine Learning ResourcesA summary of sources to get into Data Science'},\n",
       "   {'category': 'artificial-intelligence',\n",
       "    'text': '5 Resources to Inspire Your Next Data Science ProjectDon’t worry — getting started is the hardest part'}]],\n",
       " 'embeddings': None,\n",
       " 'documents': [['My Favorite Data Science/Machine Learning ResourcesA summary of sources to get into Data Science',\n",
       "   '5 Resources to Inspire Your Next Data Science ProjectDon’t worry — getting started is the hardest part']],\n",
       " 'uris': None,\n",
       " 'data': None}"
      ]
     },
     "execution_count": 16,
     "metadata": {},
     "output_type": "execute_result"
    }
   ],
   "source": [
    "article_collection.query(query_texts=qry_str1, n_results=2)\n",
    "# n_results: how many results needed"
   ]
  },
  {
   "cell_type": "code",
   "execution_count": 17,
   "id": "144f14f3",
   "metadata": {},
   "outputs": [
    {
     "data": {
      "text/plain": [
       "{'ids': [['103719', '24137']],\n",
       " 'distances': [[0.6297021508216858, 0.7120205760002136]],\n",
       " 'metadatas': [[{'category': 'machine-learning',\n",
       "    'text': 'Top 7 libraries and packages of the year for Data Science and AI: Python & RThis is a list of the best libraries and packages that changed our lives this year, compiled from my weekly digests'},\n",
       "   {'category': 'artificial-intelligence',\n",
       "    'text': 'Data Commons Version 1.0: A Framework to Build Toward AI for GoodA roadmap for data from the 2018 AI for Good Summit'}]],\n",
       " 'embeddings': None,\n",
       " 'documents': [['Top 7 libraries and packages of the year for Data Science and AI: Python & RThis is a list of the best libraries and packages that changed our lives this year, compiled from my weekly digests',\n",
       "   'Data Commons Version 1.0: A Framework to Build Toward AI for GoodA roadmap for data from the 2018 AI for Good Summit']],\n",
       " 'uris': None,\n",
       " 'data': None}"
      ]
     },
     "execution_count": 17,
     "metadata": {},
     "output_type": "execute_result"
    }
   ],
   "source": [
    "article_collection.query(query_texts=qry_str2, n_results=2)"
   ]
  },
  {
   "cell_type": "code",
   "execution_count": 22,
   "id": "c0535f9d",
   "metadata": {},
   "outputs": [],
   "source": [
    "qry_str3 = \"what is the best data science library?\"\n",
    "qry_str4 = \"what is the best ai library?\""
   ]
  },
  {
   "cell_type": "code",
   "execution_count": 20,
   "id": "25248de0",
   "metadata": {},
   "outputs": [
    {
     "data": {
      "text/plain": [
       "{'ids': [['65427', '6380']],\n",
       " 'distances': [[0.651831328868866, 0.7275521755218506]],\n",
       " 'metadatas': [[{'category': 'data-science',\n",
       "    'text': 'My Favorite Data Science/Machine Learning ResourcesA summary of sources to get into Data Science'},\n",
       "   {'category': 'data-science',\n",
       "    'text': 'A Road Map for Data ScienceWhat is Data Science?'}]],\n",
       " 'embeddings': None,\n",
       " 'documents': [['My Favorite Data Science/Machine Learning ResourcesA summary of sources to get into Data Science',\n",
       "   'A Road Map for Data ScienceWhat is Data Science?']],\n",
       " 'uris': None,\n",
       " 'data': None}"
      ]
     },
     "execution_count": 20,
     "metadata": {},
     "output_type": "execute_result"
    }
   ],
   "source": [
    "article_collection.query(query_texts=qry_str3, n_results=2)"
   ]
  },
  {
   "cell_type": "code",
   "execution_count": 23,
   "id": "7cc86108",
   "metadata": {},
   "outputs": [
    {
     "data": {
      "text/plain": [
       "{'ids': [['103719', '112075']],\n",
       " 'distances': [[0.670006275177002, 0.7815368175506592]],\n",
       " 'metadatas': [[{'category': 'machine-learning',\n",
       "    'text': 'Top 7 libraries and packages of the year for Data Science and AI: Python & RThis is a list of the best libraries and packages that changed our lives this year, compiled from my weekly digests'},\n",
       "   {'category': 'machine-learning',\n",
       "    'text': 'What are Some ‘Advanced ‘ AI and Machine Learning Online Courses?Where can you find advanced AI and machine learning courses? A comprehensive review based on my personal experience with these courses.'}]],\n",
       " 'embeddings': None,\n",
       " 'documents': [['Top 7 libraries and packages of the year for Data Science and AI: Python & RThis is a list of the best libraries and packages that changed our lives this year, compiled from my weekly digests',\n",
       "   'What are Some ‘Advanced ‘ AI and Machine Learning Online Courses?Where can you find advanced AI and machine learning courses? A comprehensive review based on my personal experience with these courses.']],\n",
       " 'uris': None,\n",
       " 'data': None}"
      ]
     },
     "execution_count": 23,
     "metadata": {},
     "output_type": "execute_result"
    }
   ],
   "source": [
    "article_collection.query(query_texts=qry_str4, n_results=2)"
   ]
  },
  {
   "cell_type": "code",
   "execution_count": null,
   "id": "645b37b0",
   "metadata": {},
   "outputs": [],
   "source": [
    "# article_collection.delete()"
   ]
  }
 ],
 "metadata": {
  "kernelspec": {
   "display_name": "Python 3 (ipykernel)",
   "language": "python",
   "name": "python3"
  },
  "language_info": {
   "codemirror_mode": {
    "name": "ipython",
    "version": 3
   },
   "file_extension": ".py",
   "mimetype": "text/x-python",
   "name": "python",
   "nbconvert_exporter": "python",
   "pygments_lexer": "ipython3",
   "version": "3.11.5"
  }
 },
 "nbformat": 4,
 "nbformat_minor": 5
}
