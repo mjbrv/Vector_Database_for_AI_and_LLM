{
 "cells": [
  {
   "cell_type": "markdown",
   "id": "70a6e01d",
   "metadata": {},
   "source": [
    "## Part 1: SQLite Database Operations for Vectors\n",
    "\n",
    "### 1. Database Creation\n",
    "- **Task:** Create a SQLite database.\n",
    "- **Details:** \n",
    "  - Database Name: `vector-db.db`\n",
    "\n",
    "### 2. Table Creation\n",
    "- **Task:** Design and create a table schema for vector data.\n",
    "\n",
    "### 3. Data Generation\n",
    "- **Task:** Generate some vector data.\n",
    "\n",
    "### 4. Data Serialization\n",
    "- **Task:** Covret vector data to bytestream by sqlite3.Binary().\n",
    "\n",
    "### 5. Data Insertion\n",
    "- **Task:** Insert bytestream data into the table.\n",
    "\n",
    "### 6. Data Retreival:\n",
    "- **Task:** Execute SQL queries.\n",
    "\n",
    "### 7. Data Deserializing\n",
    "- **Task:** Convert back the bytestream data to the original vector object.\n",
    "\n",
    "### 8. Closing Connection\n",
    "- **Task:** Safely commit and close the database connection."
   ]
  },
  {
   "cell_type": "code",
   "execution_count": 1,
   "id": "5125aaeb",
   "metadata": {},
   "outputs": [],
   "source": [
    "# !pip install sqlite3\n",
    "\n",
    "import sqlite3\n",
    "import numpy as np"
   ]
  },
  {
   "cell_type": "code",
   "execution_count": 2,
   "id": "37381cf3",
   "metadata": {},
   "outputs": [],
   "source": [
    "# create a connection to the SQLite DB\n",
    "conn = sqlite3.connect('vector-db.db')\n",
    "# Create a cursor object to execute SQL Commands\n",
    "cursor = conn.cursor()"
   ]
  },
  {
   "cell_type": "code",
   "execution_count": 3,
   "id": "607f7f93",
   "metadata": {},
   "outputs": [
    {
     "data": {
      "text/plain": [
       "<sqlite3.Cursor at 0x7fe6f8bfb0c0>"
      ]
     },
     "execution_count": 3,
     "metadata": {},
     "output_type": "execute_result"
    }
   ],
   "source": [
    "# Create a table for vector data\n",
    "cursor.execute(\n",
    "\"\"\"\n",
    "CREATE TABLE IF NOT EXISTS vectors (\n",
    "    id INTEGER PRIMARY KEY,\n",
    "    vector BLOB NOT NULL\n",
    ")\n",
    "\"\"\"\n",
    ")"
   ]
  },
  {
   "cell_type": "code",
   "execution_count": 4,
   "id": "4ee35576",
   "metadata": {},
   "outputs": [],
   "source": [
    "# generate some sample vectors\n",
    "vect1 = np.array([1.2, 3.4, 2.1, 0.8])\n",
    "vect2 = np.array([2.7, 1.5, 3.9, 2.3])"
   ]
  },
  {
   "cell_type": "code",
   "execution_count": 6,
   "id": "87ca7c70",
   "metadata": {},
   "outputs": [
    {
     "data": {
      "text/plain": [
       "b'333333\\xf3?333333\\x0b@\\xcd\\xcc\\xcc\\xcc\\xcc\\xcc\\x00@\\x9a\\x99\\x99\\x99\\x99\\x99\\xe9?'"
      ]
     },
     "execution_count": 6,
     "metadata": {},
     "output_type": "execute_result"
    }
   ],
   "source": [
    "vect1.tobytes() # numpy array to bytestream"
   ]
  },
  {
   "cell_type": "markdown",
   "id": "e9c72309",
   "metadata": {},
   "source": [
    "#### sqlite3.Binary: converts all the arrays/vectors to binary format"
   ]
  },
  {
   "cell_type": "code",
   "execution_count": 10,
   "id": "ce8931f3",
   "metadata": {},
   "outputs": [
    {
     "data": {
      "text/plain": [
       "<sqlite3.Cursor at 0x7fe6f8bfb0c0>"
      ]
     },
     "execution_count": 10,
     "metadata": {},
     "output_type": "execute_result"
    }
   ],
   "source": [
    "# Insert vector data into table\n",
    "cursor.execute(\"INSERT INTO vectors (vector) VALUES (?)\", \n",
    "               (sqlite3.Binary(vect1.tobytes()),))"
   ]
  },
  {
   "cell_type": "code",
   "execution_count": 11,
   "id": "c402dc58",
   "metadata": {},
   "outputs": [
    {
     "data": {
      "text/plain": [
       "<sqlite3.Cursor at 0x7fe6f8bfb0c0>"
      ]
     },
     "execution_count": 11,
     "metadata": {},
     "output_type": "execute_result"
    }
   ],
   "source": [
    "cursor.execute(\"INSERT INTO vectors (vector) VALUES (?)\", \n",
    "               (sqlite3.Binary(vect2.tobytes()),))"
   ]
  },
  {
   "cell_type": "code",
   "execution_count": 12,
   "id": "fec3b0de",
   "metadata": {},
   "outputs": [
    {
     "data": {
      "text/plain": [
       "<sqlite3.Cursor at 0x7fe6f8bfb0c0>"
      ]
     },
     "execution_count": 12,
     "metadata": {},
     "output_type": "execute_result"
    }
   ],
   "source": [
    "# Retreive data\n",
    "\n",
    "cursor.execute(\"SELECT vector FROM vectors\")"
   ]
  },
  {
   "cell_type": "code",
   "execution_count": 13,
   "id": "89105ae4",
   "metadata": {},
   "outputs": [],
   "source": [
    "rows = cursor.fetchall()"
   ]
  },
  {
   "cell_type": "code",
   "execution_count": 14,
   "id": "c3170e8f",
   "metadata": {},
   "outputs": [
    {
     "data": {
      "text/plain": [
       "[(b'333333\\xf3?333333\\x0b@\\xcd\\xcc\\xcc\\xcc\\xcc\\xcc\\x00@\\x9a\\x99\\x99\\x99\\x99\\x99\\xe9?',),\n",
       " (b'\\x9a\\x99\\x99\\x99\\x99\\x99\\x05@\\x00\\x00\\x00\\x00\\x00\\x00\\xf8?333333\\x0f@ffffff\\x02@',)]"
      ]
     },
     "execution_count": 14,
     "metadata": {},
     "output_type": "execute_result"
    }
   ],
   "source": [
    "rows # it contains two vectors"
   ]
  },
  {
   "cell_type": "markdown",
   "id": "9f052d78",
   "metadata": {},
   "source": [
    "## Deserializing the retreived objects\n",
    "Note: Now we have to do the reverse. So we have to convert back the byte stream to a numpy object"
   ]
  },
  {
   "cell_type": "code",
   "execution_count": 20,
   "id": "97908d99",
   "metadata": {},
   "outputs": [],
   "source": [
    "vector = np.frombuffer(rows[0][0], dtype = np.float64)"
   ]
  },
  {
   "cell_type": "code",
   "execution_count": 21,
   "id": "2edb54a1",
   "metadata": {},
   "outputs": [
    {
     "data": {
      "text/plain": [
       "array([1.2, 3.4, 2.1, 0.8])"
      ]
     },
     "execution_count": 21,
     "metadata": {},
     "output_type": "execute_result"
    }
   ],
   "source": [
    "vector"
   ]
  },
  {
   "cell_type": "code",
   "execution_count": 22,
   "id": "fd11daea",
   "metadata": {},
   "outputs": [],
   "source": [
    "vectors = []\n",
    "for row in rows:\n",
    "    vector = np.frombuffer(row[0], dtype = np.float64)\n",
    "    vectors.append(vector)"
   ]
  },
  {
   "cell_type": "code",
   "execution_count": 23,
   "id": "18258b9c",
   "metadata": {},
   "outputs": [
    {
     "data": {
      "text/plain": [
       "[array([1.2, 3.4, 2.1, 0.8]), array([2.7, 1.5, 3.9, 2.3])]"
      ]
     },
     "execution_count": 23,
     "metadata": {},
     "output_type": "execute_result"
    }
   ],
   "source": [
    "vectors"
   ]
  },
  {
   "cell_type": "markdown",
   "id": "7b94fe00",
   "metadata": {},
   "source": [
    "# Part 2:  Vector Similarity Search (VSS)"
   ]
  },
  {
   "cell_type": "markdown",
   "id": "f71971f6",
   "metadata": {},
   "source": [
    "### The goal here is to find a vector from the database that is closest to a query vector:"
   ]
  },
  {
   "cell_type": "markdown",
   "id": "963555c0",
   "metadata": {},
   "source": [
    "- **Creation of Query Vector:**\n",
    "  - Developed a query vector for database operations.\n",
    "\n",
    "- **Utilization of Vector Database:**\n",
    "  - Employed a pre-existing set of vectors from the database.\n",
    "\n",
    "- **Execution of SQL Statement:**\n",
    "  - Ran `cursor.execute` to find the vector closest to the query vector.\n",
    "\n",
    "- **Retrieval of Top Result:**\n",
    "  - Used `cursor.fetchone()` to retrieve the top matching vector.\n",
    "\n",
    "- **Conversion to Numpy Object:**\n",
    "  - Transformed the retrieved data from buffer to original vector form using the correct data type in numpy.\n"
   ]
  },
  {
   "cell_type": "code",
   "execution_count": 24,
   "id": "c1af65a1",
   "metadata": {},
   "outputs": [],
   "source": [
    "query_vect = np.array([1.0, 3.2, 2.0, 0.5]) "
   ]
  },
  {
   "cell_type": "markdown",
   "id": "371832aa",
   "metadata": {},
   "source": [
    "- ***Note 1***: The question marks in SQL is like passing a parameter, which is in this case id the query vector. So whatever the query vector is, basically it will be replaced by the question mark.\n",
    "\n",
    "- ***Note 2***:Another important note is this search needs to be in the ascending order so the vector with the lowest distance should be at the top so we can actually pull the top one to find the closest vector"
   ]
  },
  {
   "cell_type": "code",
   "execution_count": 25,
   "id": "303a064d",
   "metadata": {},
   "outputs": [
    {
     "data": {
      "text/plain": [
       "<sqlite3.Cursor at 0x7fe6f8bfb0c0>"
      ]
     },
     "execution_count": 25,
     "metadata": {},
     "output_type": "execute_result"
    }
   ],
   "source": [
    "cursor.execute(\"\"\"\n",
    "SELECT vector FROM vectors ORDER BY abs(vector - ?) ASC\n",
    "\"\"\", (sqlite3.Binary(query_vect.tobytes()),))"
   ]
  },
  {
   "cell_type": "code",
   "execution_count": 26,
   "id": "cc0a82db",
   "metadata": {},
   "outputs": [],
   "source": [
    "res = cursor.fetchone()  # finding the top one"
   ]
  },
  {
   "cell_type": "markdown",
   "id": "ee6155f2",
   "metadata": {},
   "source": [
    "- ***Note 3***: we don't have to do fetchall() here because we just want the top result which is the one vector closest to the query vector."
   ]
  },
  {
   "cell_type": "code",
   "execution_count": 28,
   "id": "f0e3f843",
   "metadata": {},
   "outputs": [
    {
     "data": {
      "text/plain": [
       "array([2.7, 1.5, 3.9, 2.3])"
      ]
     },
     "execution_count": 28,
     "metadata": {},
     "output_type": "execute_result"
    }
   ],
   "source": [
    "np.frombuffer(res[0], dtype=np.float64) # most similar vector"
   ]
  },
  {
   "cell_type": "code",
   "execution_count": 29,
   "id": "1290f0e9",
   "metadata": {},
   "outputs": [],
   "source": [
    "conn.commit()"
   ]
  },
  {
   "cell_type": "code",
   "execution_count": 30,
   "id": "7f9a6b35",
   "metadata": {},
   "outputs": [],
   "source": [
    "conn.close()"
   ]
  },
  {
   "cell_type": "code",
   "execution_count": null,
   "id": "cd1cf934",
   "metadata": {},
   "outputs": [],
   "source": []
  }
 ],
 "metadata": {
  "kernelspec": {
   "display_name": "Python 3 (ipykernel)",
   "language": "python",
   "name": "python3"
  },
  "language_info": {
   "codemirror_mode": {
    "name": "ipython",
    "version": 3
   },
   "file_extension": ".py",
   "mimetype": "text/x-python",
   "name": "python",
   "nbconvert_exporter": "python",
   "pygments_lexer": "ipython3",
   "version": "3.11.5"
  }
 },
 "nbformat": 4,
 "nbformat_minor": 5
}
