{
 "cells": [
  {
   "cell_type": "markdown",
   "id": "a7da643e",
   "metadata": {},
   "source": [
    "# Index Management"
   ]
  },
  {
   "cell_type": "markdown",
   "id": "44df2534",
   "metadata": {
    "scrolled": true
   },
   "source": [
    "1. Create Index \n",
    "2. Retrieve list of database indexes.\n",
    "3. Connect to a index\n",
    "4. Describe index\n",
    "5. Delete a index   "
   ]
  },
  {
   "cell_type": "code",
   "execution_count": 15,
   "id": "15162e8d",
   "metadata": {
    "scrolled": false
   },
   "outputs": [],
   "source": [
    "import pinecone\n",
    "from tqdm.autonotebook import tqdm \n",
    "\n",
    "# API_KEY = \"YOUR API KEY\"\n",
    "# ENV = \"YOUR ENVIRONMENT\"\n",
    "\n",
    "pinecone.init(api_key = API_KEY, environment = ENV)"
   ]
  },
  {
   "cell_type": "markdown",
   "id": "693f2c2b",
   "metadata": {},
   "source": [
    "#### 1. Create Index"
   ]
  },
  {
   "attachments": {
    "image-2.png": {
     "image/png": "[encoded data removed]"
    }
   },
   "cell_type": "markdown",
   "id": "fe924aa2",
   "metadata": {},
   "source": [
    "##### Different pod types:\n",
    "![image-2.png](attachment:image-2.png)"
   ]
  },
  {
   "cell_type": "markdown",
   "id": "e35ccd8f",
   "metadata": {},
   "source": [
    "**Note:** Role of *pod* in a vector database index is to provide pre-configured hardware for efficient data retreival"
   ]
  },
  {
   "cell_type": "code",
   "execution_count": 16,
   "id": "2e312b55",
   "metadata": {},
   "outputs": [],
   "source": [
    "pinecone.create_index(\"test\", dimension=3, metric=\"dotproduct\",\n",
    "                     pod_type='s1') # sparse-dense vector\n",
    "# delete existing one in free tier\n",
    "\n"
   ]
  },
  {
   "cell_type": "markdown",
   "id": "26017870",
   "metadata": {
    "scrolled": true
   },
   "source": [
    "<!-- #     (\"A\", [0.1, 0.1, 0.1, 0.1, 0.1, 0.1, 0.1, 0.1]),\n",
    "#     (\"B\", [0.2, 0.2, 0.2, 0.2, 0.2, 0.2, 0.2, 0.2]),\n",
    "#     (\"C\", [0.3, 0.3, 0.3, 0.3, 0.3, 0.3, 0.3, 0.3]),\n",
    "#     (\"D\", [0.4, 0.4, 0.4, 0.4, 0.4, 0.4, 0.4, 0.4]),\n",
    "#     (\"E\", [0.5, 0.5, 0.5, 0.5, 0.5, 0.5, 0.5, 0.5]) -->"
   ]
  },
  {
   "cell_type": "markdown",
   "id": "64575c8a",
   "metadata": {},
   "source": [
    "#### 2. Retrieve list of database indexes."
   ]
  },
  {
   "cell_type": "code",
   "execution_count": 17,
   "id": "13152825",
   "metadata": {},
   "outputs": [
    {
     "data": {
      "text/plain": [
       "['test']"
      ]
     },
     "execution_count": 17,
     "metadata": {},
     "output_type": "execute_result"
    }
   ],
   "source": [
    "pinecone.list_indexes()"
   ]
  },
  {
   "cell_type": "markdown",
   "id": "73cf864a",
   "metadata": {},
   "source": [
    "#### 3. Connect to a index"
   ]
  },
  {
   "cell_type": "code",
   "execution_count": 18,
   "id": "bb86facd",
   "metadata": {},
   "outputs": [],
   "source": [
    "idx = pinecone.Index('test')"
   ]
  },
  {
   "cell_type": "markdown",
   "id": "434f57e6",
   "metadata": {},
   "source": [
    "#### 4. Describe index"
   ]
  },
  {
   "cell_type": "code",
   "execution_count": 19,
   "id": "34d1b451",
   "metadata": {},
   "outputs": [
    {
     "data": {
      "text/plain": [
       "IndexDescription(name='test', metric='dotproduct', replicas=1, dimension=3.0, shards=1, pods=1, pod_type='starter', status={'ready': True, 'state': 'Ready'}, metadata_config=None, source_collection='')"
      ]
     },
     "execution_count": 19,
     "metadata": {},
     "output_type": "execute_result"
    }
   ],
   "source": [
    "pinecone.describe_index('test')"
   ]
  },
  {
   "cell_type": "code",
   "execution_count": 20,
   "id": "4ef4cc9c",
   "metadata": {},
   "outputs": [],
   "source": [
    "description = pinecone.describe_index('test') # response "
   ]
  },
  {
   "cell_type": "code",
   "execution_count": 21,
   "id": "9bf94634",
   "metadata": {},
   "outputs": [
    {
     "name": "stdout",
     "output_type": "stream",
     "text": [
      "Index ready\n"
     ]
    }
   ],
   "source": [
    "if (description.status['state'] == 'Ready') :\n",
    "    print('Index ready')\n",
    "else: \n",
    "    print('Index not ready')"
   ]
  },
  {
   "cell_type": "code",
   "execution_count": 22,
   "id": "c3534869",
   "metadata": {},
   "outputs": [
    {
     "data": {
      "text/plain": [
       "3.0"
      ]
     },
     "execution_count": 22,
     "metadata": {},
     "output_type": "execute_result"
    }
   ],
   "source": [
    "description.dimension"
   ]
  },
  {
   "cell_type": "code",
   "execution_count": 23,
   "id": "2af2e158",
   "metadata": {},
   "outputs": [
    {
     "data": {
      "text/plain": [
       "'starter'"
      ]
     },
     "execution_count": 23,
     "metadata": {},
     "output_type": "execute_result"
    }
   ],
   "source": [
    "description.pod_type"
   ]
  },
  {
   "cell_type": "code",
   "execution_count": 28,
   "id": "0178cea6",
   "metadata": {},
   "outputs": [],
   "source": [
    "pod_type = description.pod_type.split(\".\")[0]\n",
    "if  (pod_type == 's1') or (pod_type=='p1'):\n",
    "    print('Sparse-dense')"
   ]
  },
  {
   "cell_type": "markdown",
   "id": "b6d24545",
   "metadata": {},
   "source": [
    "***Note***: If your Pinecone plan is the free version your pod_type maybe is 'starter' even if you asked to have a different pod_type when making the index."
   ]
  },
  {
   "cell_type": "markdown",
   "id": "64d6b8ab",
   "metadata": {},
   "source": [
    "#### 5. Delete a index  "
   ]
  },
  {
   "cell_type": "code",
   "execution_count": 26,
   "id": "ee49c4b4",
   "metadata": {},
   "outputs": [],
   "source": [
    "pinecone.delete_index(\"test\")"
   ]
  },
  {
   "cell_type": "code",
   "execution_count": null,
   "id": "613074c0",
   "metadata": {},
   "outputs": [],
   "source": []
  }
 ],
 "metadata": {
  "kernelspec": {
   "display_name": "Python 3 (ipykernel)",
   "language": "python",
   "name": "python3"
  },
  "language_info": {
   "codemirror_mode": {
    "name": "ipython",
    "version": 3
   },
   "file_extension": ".py",
   "mimetype": "text/x-python",
   "name": "python",
   "nbconvert_exporter": "python",
   "pygments_lexer": "ipython3",
   "version": "3.11.5"
  }
 },
 "nbformat": 4,
 "nbformat_minor": 5
}
