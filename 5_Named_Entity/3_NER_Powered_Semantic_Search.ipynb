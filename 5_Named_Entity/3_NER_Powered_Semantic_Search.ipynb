{
 "cells": [
  {
   "cell_type": "markdown",
   "id": "e559f380",
   "metadata": {},
   "source": [
    "# NER Powered Semantic Search "
   ]
  },
  {
   "cell_type": "markdown",
   "id": "e537aef3",
   "metadata": {},
   "source": [
    "### Setup Environment"
   ]
  },
  {
   "cell_type": "code",
   "execution_count": null,
   "id": "38eac55a",
   "metadata": {},
   "outputs": [],
   "source": [
    "# init pinecone\n",
    "import pandas as pd\n",
    "import pinecone\n",
    "from tqdm.autonotebook import tqdm # warning taken care of\n",
    "\n",
    "# API_KEY = \"YOUR API KEY\"\n",
    "# ENV = \"YOUR ENVIRONMENT\"\n",
    "\n",
    "pinecone.init(api_key = API_KEY, environment = ENV)\n",
    "index = pinecone.Index(\"medium-data\")"
   ]
  },
  {
   "cell_type": "code",
   "execution_count": null,
   "id": "2fd00bcf",
   "metadata": {},
   "outputs": [],
   "source": [
    "# clean up pinecone index\n",
    "index.delete(delete_all=True)"
   ]
  },
  {
   "cell_type": "code",
   "execution_count": null,
   "id": "84b80055",
   "metadata": {},
   "outputs": [],
   "source": [
    "# delete index , dimensino no longer useful"
   ]
  },
  {
   "cell_type": "code",
   "execution_count": 2,
   "id": "dbcc0a7a",
   "metadata": {},
   "outputs": [],
   "source": [
    "# load libraries for NER \n",
    "\n",
    "from transformers import AutoTokenizer, AutoModelForTokenClassification\n",
    "from transformers import pipeline\n",
    "import torch"
   ]
  },
  {
   "cell_type": "markdown",
   "id": "a6969324",
   "metadata": {},
   "source": [
    "### NER Engine"
   ]
  },
  {
   "cell_type": "code",
   "execution_count": 3,
   "id": "4a3c9844",
   "metadata": {},
   "outputs": [
    {
     "name": "stderr",
     "output_type": "stream",
     "text": [
      "Some weights of the model checkpoint at dslim/bert-base-NER were not used when initializing BertForTokenClassification: ['bert.pooler.dense.weight', 'bert.pooler.dense.bias']\n",
      "- This IS expected if you are initializing BertForTokenClassification from the checkpoint of a model trained on another task or with another architecture (e.g. initializing a BertForSequenceClassification model from a BertForPreTraining model).\n",
      "- This IS NOT expected if you are initializing BertForTokenClassification from the checkpoint of a model that you expect to be exactly identical (initializing a BertForSequenceClassification model from a BertForSequenceClassification model).\n"
     ]
    }
   ],
   "source": [
    "# init NER engine\n",
    "\n",
    "model_id = 'dslim/bert-base-NER'\n",
    "\n",
    "tokenizer = AutoTokenizer.from_pretrained(model_id)\n",
    "model = AutoModelForTokenClassification.from_pretrained(model_id)\n",
    "\n",
    "# nlp pipeline\n",
    "\n",
    "nlp = pipeline('ner',\n",
    "              model=model,\n",
    "              tokenizer=tokenizer,\n",
    "              aggregation_strategy= 'max',\n",
    "              device= 'cpu') \n",
    "# nlp(\"Bill Gates is the founder of Microsoft\")"
   ]
  },
  {
   "cell_type": "markdown",
   "id": "da04c986",
   "metadata": {},
   "source": [
    "### Retriever"
   ]
  },
  {
   "cell_type": "code",
   "execution_count": 4,
   "id": "f2747186",
   "metadata": {},
   "outputs": [],
   "source": [
    "# load libraries for retriever\n",
    "\n",
    "from sentence_transformers import SentenceTransformer\n",
    "\n",
    "\n",
    "# https://huggingface.co/flax-sentence-embeddings/all_datasets_v3_mpnet-base\n",
    "retriever = SentenceTransformer(\n",
    "    \"flax-sentence-embeddings/all_datasets_v3_mpnet-base\")"
   ]
  },
  {
   "cell_type": "code",
   "execution_count": 5,
   "id": "c3142139",
   "metadata": {},
   "outputs": [
    {
     "data": {
      "text/plain": [
       "SentenceTransformer(\n",
       "  (0): Transformer({'max_seq_length': 128, 'do_lower_case': False}) with Transformer model: MPNetModel \n",
       "  (1): Pooling({'word_embedding_dimension': 768, 'pooling_mode_cls_token': False, 'pooling_mode_mean_tokens': True, 'pooling_mode_max_tokens': False, 'pooling_mode_mean_sqrt_len_tokens': False})\n",
       "  (2): Normalize()\n",
       ")"
      ]
     },
     "execution_count": 5,
     "metadata": {},
     "output_type": "execute_result"
    }
   ],
   "source": [
    "retriever"
   ]
  },
  {
   "cell_type": "code",
   "execution_count": 6,
   "id": "ff42acf7",
   "metadata": {},
   "outputs": [],
   "source": [
    "# Create Pinecone Index\n",
    "pinecone.create_index(\"medium-data\", dimension= 768, metric=\"cosine\")\n",
    "index= pinecone.Index(\"medium-data\")"
   ]
  },
  {
   "cell_type": "markdown",
   "id": "b31bb742",
   "metadata": {},
   "source": [
    "### Data Prep"
   ]
  },
  {
   "cell_type": "code",
   "execution_count": 7,
   "id": "9b5558e7",
   "metadata": {},
   "outputs": [],
   "source": [
    "# Obtain Raw Data\n",
    "\n",
    "# Method 1\n",
    "# from datasets import load_dataset\n",
    "# df = load_dataset(\n",
    "#     \"fabiochiu/medium-articles\",\n",
    "#     data_files=\"medium_articles.csv\",\n",
    "#     split=\"train\"\n",
    "# ).to_pandas()\n",
    "\n",
    "# Method 2: Mannualy download the csv file\n",
    "# https://huggingface.co/datasets/fabiochiu/medium-articles/tree/main\n",
    "df = pd.read_csv('medium_articles.csv')"
   ]
  },
  {
   "cell_type": "code",
   "execution_count": 8,
   "id": "9247ab3c",
   "metadata": {},
   "outputs": [],
   "source": [
    "df = df.dropna().sample(1000, random_state=45) # might take 30mins to 1hr\n",
    "\n",
    "df['text_extended'] = df['title'] + '.' + df['text'].str[:1000]"
   ]
  },
  {
   "cell_type": "code",
   "execution_count": 9,
   "id": "11d8c94e",
   "metadata": {},
   "outputs": [
    {
     "data": {
      "text/html": [
       "<div>\n",
       "<style scoped>\n",
       "    .dataframe tbody tr th:only-of-type {\n",
       "        vertical-align: middle;\n",
       "    }\n",
       "\n",
       "    .dataframe tbody tr th {\n",
       "        vertical-align: top;\n",
       "    }\n",
       "\n",
       "    .dataframe thead th {\n",
       "        text-align: right;\n",
       "    }\n",
       "</style>\n",
       "<table border=\"1\" class=\"dataframe\">\n",
       "  <thead>\n",
       "    <tr style=\"text-align: right;\">\n",
       "      <th></th>\n",
       "      <th>title</th>\n",
       "      <th>text</th>\n",
       "      <th>url</th>\n",
       "      <th>authors</th>\n",
       "      <th>timestamp</th>\n",
       "      <th>tags</th>\n",
       "      <th>text_extended</th>\n",
       "    </tr>\n",
       "  </thead>\n",
       "  <tbody>\n",
       "    <tr>\n",
       "      <th>189059</th>\n",
       "      <td>How do you move a WordPress website to another...</td>\n",
       "      <td>Photo by Moritz Mentges on Unsplash\\n\\nMoving ...</td>\n",
       "      <td>https://medium.com/@dyderik/how-do-you-move-a-...</td>\n",
       "      <td>['Richard Detering']</td>\n",
       "      <td>2021-11-13 05:42:44.009000+00:00</td>\n",
       "      <td>['Web Hosting Services', 'Web Hosting', 'Trans...</td>\n",
       "      <td>How do you move a WordPress website to another...</td>\n",
       "    </tr>\n",
       "    <tr>\n",
       "      <th>96618</th>\n",
       "      <td>A Long December</td>\n",
       "      <td>In my quest to find ways of engaging with the ...</td>\n",
       "      <td>https://medium.com/@keenekomeskleen/a-long-dec...</td>\n",
       "      <td>['Matt Keene']</td>\n",
       "      <td>2020-12-16 19:47:55.820000+00:00</td>\n",
       "      <td>['Society', 'Politics', 'Poverty', 'Pandemic',...</td>\n",
       "      <td>A Long December.In my quest to find ways of en...</td>\n",
       "    </tr>\n",
       "    <tr>\n",
       "      <th>46027</th>\n",
       "      <td>I Have Decided to Stop Being the Michael Scott...</td>\n",
       "      <td>Writing is, for me, a beloved pastime. I’ve do...</td>\n",
       "      <td>https://pisancantos43.medium.com/i-have-decide...</td>\n",
       "      <td>['Anthony Aycock']</td>\n",
       "      <td>2019-05-12 20:04:59.371000+00:00</td>\n",
       "      <td>['Teaching', 'Television', 'College', 'Writing...</td>\n",
       "      <td>I Have Decided to Stop Being the Michael Scott...</td>\n",
       "    </tr>\n",
       "    <tr>\n",
       "      <th>145790</th>\n",
       "      <td>EU fully committed to sustainable development</td>\n",
       "      <td>European Commission Vice-President Jyrki Katai...</td>\n",
       "      <td>https://medium.com/ecajournal/eu-fully-committ...</td>\n",
       "      <td>['European Court Of Auditors']</td>\n",
       "      <td>2019-07-24 13:15:13.130000+00:00</td>\n",
       "      <td>['Sustainable Development']</td>\n",
       "      <td>EU fully committed to sustainable development....</td>\n",
       "    </tr>\n",
       "    <tr>\n",
       "      <th>132859</th>\n",
       "      <td>HD ▷..! เรื่องเต็ม 【M-Thai ดาบพิฆาตอสูร เดอะมู...</td>\n",
       "      <td>TAG::\\n\\nดาบพิฆาตอสูร เดอะมูฟวี่ ศึกรถไฟสู่นิร...</td>\n",
       "      <td>https://medium.com/@bangetanjay405/hd-%E0%B9%8...</td>\n",
       "      <td>[]</td>\n",
       "      <td>2020-12-12 14:33:34.766000+00:00</td>\n",
       "      <td>['Thailand', 'Japan', 'Taiwan', 'Hong Kong', '...</td>\n",
       "      <td>HD ▷..! เรื่องเต็ม 【M-Thai ดาบพิฆาตอสูร เดอะมู...</td>\n",
       "    </tr>\n",
       "  </tbody>\n",
       "</table>\n",
       "</div>"
      ],
      "text/plain": [
       "                                                    title  \\\n",
       "189059  How do you move a WordPress website to another...   \n",
       "96618                                     A Long December   \n",
       "46027   I Have Decided to Stop Being the Michael Scott...   \n",
       "145790      EU fully committed to sustainable development   \n",
       "132859  HD ▷..! เรื่องเต็ม 【M-Thai ดาบพิฆาตอสูร เดอะมู...   \n",
       "\n",
       "                                                     text  \\\n",
       "189059  Photo by Moritz Mentges on Unsplash\\n\\nMoving ...   \n",
       "96618   In my quest to find ways of engaging with the ...   \n",
       "46027   Writing is, for me, a beloved pastime. I’ve do...   \n",
       "145790  European Commission Vice-President Jyrki Katai...   \n",
       "132859  TAG::\\n\\nดาบพิฆาตอสูร เดอะมูฟวี่ ศึกรถไฟสู่นิร...   \n",
       "\n",
       "                                                      url  \\\n",
       "189059  https://medium.com/@dyderik/how-do-you-move-a-...   \n",
       "96618   https://medium.com/@keenekomeskleen/a-long-dec...   \n",
       "46027   https://pisancantos43.medium.com/i-have-decide...   \n",
       "145790  https://medium.com/ecajournal/eu-fully-committ...   \n",
       "132859  https://medium.com/@bangetanjay405/hd-%E0%B9%8...   \n",
       "\n",
       "                               authors                         timestamp  \\\n",
       "189059            ['Richard Detering']  2021-11-13 05:42:44.009000+00:00   \n",
       "96618                   ['Matt Keene']  2020-12-16 19:47:55.820000+00:00   \n",
       "46027               ['Anthony Aycock']  2019-05-12 20:04:59.371000+00:00   \n",
       "145790  ['European Court Of Auditors']  2019-07-24 13:15:13.130000+00:00   \n",
       "132859                              []  2020-12-12 14:33:34.766000+00:00   \n",
       "\n",
       "                                                     tags  \\\n",
       "189059  ['Web Hosting Services', 'Web Hosting', 'Trans...   \n",
       "96618   ['Society', 'Politics', 'Poverty', 'Pandemic',...   \n",
       "46027   ['Teaching', 'Television', 'College', 'Writing...   \n",
       "145790                        ['Sustainable Development']   \n",
       "132859  ['Thailand', 'Japan', 'Taiwan', 'Hong Kong', '...   \n",
       "\n",
       "                                            text_extended  \n",
       "189059  How do you move a WordPress website to another...  \n",
       "96618   A Long December.In my quest to find ways of en...  \n",
       "46027   I Have Decided to Stop Being the Michael Scott...  \n",
       "145790  EU fully committed to sustainable development....  \n",
       "132859  HD ▷..! เรื่องเต็ม 【M-Thai ดาบพิฆาตอสูร เดอะมู...  "
      ]
     },
     "execution_count": 9,
     "metadata": {},
     "output_type": "execute_result"
    }
   ],
   "source": [
    "df.head()"
   ]
  },
  {
   "cell_type": "code",
   "execution_count": null,
   "id": "a6fd0fc5",
   "metadata": {},
   "outputs": [],
   "source": [
    "# len(nlp(df_batch)) # list of lst"
   ]
  },
  {
   "cell_type": "markdown",
   "id": "57f065d7",
   "metadata": {},
   "source": [
    "### NER Helper Function"
   ]
  },
  {
   "cell_type": "code",
   "execution_count": 10,
   "id": "3253d6e9",
   "metadata": {},
   "outputs": [],
   "source": [
    "# helper function for extracting entities of a batch of texts\n",
    "\n",
    "def extract_entities(list_of_text):\n",
    "    entities = []\n",
    "    for doc in list_of_text: \n",
    "        entities.append([item['word'] for item in nlp(doc)])\n",
    "        # list of entities for 1 doc\n",
    "    return entities"
   ]
  },
  {
   "cell_type": "code",
   "execution_count": null,
   "id": "75ba2589",
   "metadata": {},
   "outputs": [],
   "source": [
    "# embedding\n",
    "\n",
    "# len(retriever.encode(df_batch))\n",
    "# len(retriever.encode(df_batch[0])) # try for one doc\n",
    "# embedding for batch\n",
    "# emb = retriever.encode(df_batch).tolist() # array to python list"
   ]
  },
  {
   "cell_type": "markdown",
   "id": "b9b819cc",
   "metadata": {},
   "source": [
    "### Batch Upsert"
   ]
  },
  {
   "cell_type": "code",
   "execution_count": 11,
   "id": "2ff7ce8a",
   "metadata": {
    "scrolled": true
   },
   "outputs": [],
   "source": [
    "# upsert data\n",
    "\n",
    "from tqdm.auto import tqdm\n",
    "\n",
    "batch_size = 64\n",
    "\n",
    "for i in range(0, len(df), batch_size):\n",
    "    i_end = min(i+batch_size, len(df))\n",
    "    # print(i, i_end) # starting and ending index of each batch\n",
    "    \n",
    "    # get a batch of data\n",
    "    df_batch = df.iloc[i: i_end].copy()\n",
    "    \n",
    "    # embedding\n",
    "    emb = retriever.encode(df_batch['text_extended'].tolist()\n",
    "                          ).tolist() # array to python list\n",
    "    \n",
    "    # ner extraction\n",
    "    entities = extract_entities(df_batch['text_extended'].tolist())\n",
    "    \n",
    "    # [[]] --> [set1, set2, ], remove duplicate entities    \n",
    "    df_batch['named_entity'] = [list(set(entity)) for entity in entities] # one list per document\n",
    "    \n",
    "    # create meta data\n",
    "    df_batch = df_batch.drop('text', axis=1)\n",
    "    \n",
    "    meta_data = df_batch.to_dict(orient='records') # pd.df to dictionary\n",
    "    \n",
    "    # create ids\n",
    "    \n",
    "    ids = [f\"{idx}\" for idx in range(i, i_end)] #\n",
    "    \n",
    "    # upsert\n",
    "    \n",
    "    vectors_to_upsert = list(zip(ids, emb, meta_data))  # nd array to python list\n",
    "    \n",
    "    _ = index.upsert(vectors= vectors_to_upsert)  \n",
    "    \n",
    "    \n"
   ]
  },
  {
   "cell_type": "code",
   "execution_count": null,
   "id": "0bb86227",
   "metadata": {
    "scrolled": true
   },
   "outputs": [],
   "source": [
    "# index.describe_index_stats()"
   ]
  },
  {
   "cell_type": "markdown",
   "id": "27b5c5e5",
   "metadata": {},
   "source": [
    "### Query data"
   ]
  },
  {
   "cell_type": "code",
   "execution_count": 12,
   "id": "28a42866",
   "metadata": {},
   "outputs": [],
   "source": [
    "query = \"How to make a Wordpress website?\"  # Natural Language\n",
    "\n",
    "emb_qx = retriever.encode(query).tolist() # embedded query vector\n",
    "\n",
    "ne = extract_entities([query])[0] # Named entity as a search filter"
   ]
  },
  {
   "cell_type": "code",
   "execution_count": 16,
   "id": "89ccbf6a",
   "metadata": {},
   "outputs": [],
   "source": [
    "xc = index.query(emb_qx, top_k= 5, include_metadata=True,\n",
    "           filter = {\"named_entity\": {\"$in\" : ne}})"
   ]
  },
  {
   "cell_type": "code",
   "execution_count": 17,
   "id": "01d0d625",
   "metadata": {},
   "outputs": [
    {
     "name": "stdout",
     "output_type": "stream",
     "text": [
      "0.294447154   ['Both Sides of the Table', 'Wordpress']\n"
     ]
    }
   ],
   "source": [
    "for result in xc['matches']:\n",
    "    print(result['score'], \" \", result['metadata']['named_entity'])"
   ]
  },
  {
   "cell_type": "code",
   "execution_count": null,
   "id": "3eadf4b3",
   "metadata": {},
   "outputs": [],
   "source": []
  }
 ],
 "metadata": {
  "kernelspec": {
   "display_name": "Python 3 (ipykernel)",
   "language": "python",
   "name": "python3"
  },
  "language_info": {
   "codemirror_mode": {
    "name": "ipython",
    "version": 3
   },
   "file_extension": ".py",
   "mimetype": "text/x-python",
   "name": "python",
   "nbconvert_exporter": "python",
   "pygments_lexer": "ipython3",
   "version": "3.11.5"
  }
 },
 "nbformat": 4,
 "nbformat_minor": 5
}
